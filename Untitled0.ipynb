{
  "nbformat": 4,
  "nbformat_minor": 0,
  "metadata": {
    "colab": {
      "provenance": [],
      "authorship_tag": "ABX9TyPtXtUmupujsv+XBFLUkmkm",
      "include_colab_link": true
    },
    "kernelspec": {
      "name": "python3",
      "display_name": "Python 3"
    },
    "language_info": {
      "name": "python"
    }
  },
  "cells": [
    {
      "cell_type": "markdown",
      "metadata": {
        "id": "view-in-github",
        "colab_type": "text"
      },
      "source": [
        "<a href=\"https://colab.research.google.com/github/Tomer998/brnoulli-demo/blob/dev/Untitled0.ipynb\" target=\"_parent\"><img src=\"https://colab.research.google.com/assets/colab-badge.svg\" alt=\"Open In Colab\"/></a>"
      ]
    },
    {
      "cell_type": "code",
      "execution_count": null,
      "metadata": {
        "id": "2JzkCsMttAnU"
      },
      "outputs": [],
      "source": [
        "# prompt: write a code of bernuli series\n",
        "\n",
        "import numpy as np\n",
        "\n",
        "def bernoulli_series(n):\n",
        "  \"\"\"\n",
        "  Calculates the Bernoulli numbers up to the nth Bernoulli number.\n",
        "\n",
        "  Args:\n",
        "    n: The desired number of Bernoulli numbers to compute.\n",
        "\n",
        "  Returns:\n",
        "    A NumPy array containing the Bernoulli numbers up to B_n.\n",
        "  \"\"\"\n",
        "  B = np.zeros(n + 1)\n",
        "  for m in range(n + 1):\n",
        "    for k in range(m + 1):\n",
        "      B[m] += np.math.comb(m + 1, k) * B[k]\n",
        "    B[m] = (B[m] * (-1))\n",
        "  return B\n",
        "# Example usage:\n",
        "n = 10\n",
        "bernoulli_numbers = bernoulli_series(n)\n",
        "print(f\"The first {n+1} Bernoulli numbers are:\\n {bernoulli_numbers}\")\n"
      ]
    }
  ]
}